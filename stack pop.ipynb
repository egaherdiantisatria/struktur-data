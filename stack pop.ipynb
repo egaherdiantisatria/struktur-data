{
 "cells": [
  {
   "cell_type": "code",
   "execution_count": 15,
   "metadata": {
    "collapsed": false
   },
   "outputs": [
    {
     "name": "stdout",
     "output_type": "stream",
     "text": [
      "hello\n",
      "true\n"
     ]
    }
   ],
   "source": [
    "#membuat kelas pada stack\n",
    "class Stack:\n",
    "     #memanggil si stack\n",
    "    def __init__(self):\n",
    "        self.items = []\n",
    "    #jika kelas kosong\n",
    "    def isEmpty(self):\n",
    "         return self.items == []\n",
    "    #input item\n",
    "    def push(self, item):\n",
    "         self.items.insert(2,item)\n",
    "    #output item\n",
    "    def pop(self):\n",
    "         return self.items.pop(0)\n",
    "\n",
    "s = Stack()\n",
    "s.push('hello')\n",
    "s.push('true')\n",
    "print(s.pop())\n",
    "print(s.pop())"
   ]
  },
  {
   "cell_type": "markdown",
   "metadata": {
    "collapsed": false
   },
   "source": [
    "Stack atau Tumpukan adalah suatu struktur data yang terbentuk dari barisan hingga yang terurut dari satuan data. Pada Stack, penambahan dan penghapusan elemennya hanya dapat dilakukan pada satu posisi, yaitu posisi akhir stack. Posisi ini disebut Puncak atau Top dari stack."
   ]
  },
  {
   "cell_type": "code",
   "execution_count": 16,
   "metadata": {
    "cocalc": {
     "outputs": {
      "0": {
       "name": "input",
       "opts": {
        "password": false,
        "prompt": "Masukan nama anak ke 1 yang masuk di antrian = "
       },
       "output_type": "stream",
       "value": "ana"
      },
      "1": {
       "name": "input",
       "opts": {
        "password": false,
        "prompt": "Masukan nama anak ke 2 yang masuk di antrian = "
       },
       "output_type": "stream",
       "value": "ini"
      },
      "2": {
       "name": "input",
       "opts": {
        "password": false,
        "prompt": "Masukan nama anak ke 3 yang masuk di antrian = "
       },
       "output_type": "stream",
       "value": "itu"
      },
      "3": {
       "name": "input",
       "opts": {
        "password": false,
        "prompt": "Masukan nama anak ke 4 yang masuk di antrian = "
       },
       "output_type": "stream",
       "value": "aoa"
      },
      "4": {
       "name": "input",
       "opts": {
        "password": false,
        "prompt": "Masukan nama anak yang ingin dicari = "
       },
       "output_type": "stream"
      }
     }
    },
    "collapsed": false
   },
   "outputs": [
    {
     "name": "stdout",
     "output_type": "stream",
     "text": "Masukan nama anak ke 1 yang masuk di antrian =  ana"
    },
    {
     "name": "stdout",
     "output_type": "stream",
     "text": "Masukan nama anak ke 2 yang masuk di antrian =  ini"
    },
    {
     "name": "stdout",
     "output_type": "stream",
     "text": "Masukan nama anak ke 3 yang masuk di antrian =  itu"
    },
    {
     "name": "stdout",
     "output_type": "stream",
     "text": "Masukan nama anak ke 4 yang masuk di antrian =  aoa"
    },
    {
     "name": "stdout",
     "output_type": "stream",
     "text": "Masukan nama anak yang ingin dicari =  "
    },
    {
     "name": "stdout",
     "output_type": "stream",
     "text": [
      "Orang yang berada di antrian ['ana', 'ini', 'itu', 'aoa']\n"
     ],
     "value": "aoa"
    },
    {
     "name": "stdout",
     "output_type": "stream",
     "text": [
      "Looping 1 = ['ini', 'itu', 'aoa', 'ana']\n",
      "Looping 2 = ['itu', 'aoa', 'ana', 'ini']\n",
      "Looping 3 = ['aoa', 'ana', 'ini', 'itu']\n",
      "Total looping yang perlukan adalah 3\n"
     ]
    }
   ],
   "source": [
    "def queue():\n",
    "    s = []\n",
    "    return s\n",
    "def enqueue(s,i):\n",
    "    s.insert(0,i)\n",
    "    return s\n",
    "def dequeue(s):\n",
    "    return s.pop()\n",
    "def rear(s):\n",
    "    return (s[0])\n",
    "def front(s):\n",
    "    return (s[len(s)-1])\n",
    "def size(s):\n",
    "    return len(s)\n",
    "def isEmpty(s):\n",
    "    return s==[]\n",
    "\n",
    "def simulasigamestangkapnama():\n",
    "    s = queue()\n",
    "    while True:\n",
    "        banyak = 4\n",
    "        for i in range(banyak):\n",
    "            orang = str(input('Masukan nama anak ke %i yang masuk di antrian = '%(i+1)))\n",
    "            enqueue(s,orang)\n",
    "        s.reverse()\n",
    "        print(\"Orang yang berada di antrian %s\" %s)\n",
    "        s.reverse()\n",
    "        o = input('Masukan nama anak yang ingin dicari = ')\n",
    "        dicari = 'cari'\n",
    "        itung= False\n",
    "        while dicari=='cari':\n",
    "            if o == front(s):\n",
    "                ditemukan = 'y'\n",
    "            elif o != front(s):\n",
    "                masukan = dequeue(s)\n",
    "                enqueue(s,masukan)\n",
    "                dicari = 'cari'\n",
    "                s.reverse()\n",
    "                print('Looping %i = %s'%((itung+1),s))\n",
    "                s.reverse()\n",
    "            itung+=True\n",
    "            if itung > len(s):\n",
    "                dicari = 'y'\n",
    "        print('Total looping yang perlukan adalah',len(s)-1)\n",
    "        break\n",
    "simulasigamestangkapnama()\n"
   ]
  },
  {
   "cell_type": "code",
   "execution_count": 25,
   "metadata": {
    "collapsed": false
   },
   "outputs": [
    {
     "name": "stdout",
     "output_type": "stream",
     "text": [
      "hello\n"
     ]
    }
   ],
   "source": [
    "class Queue:\n",
    "    def __init__(self):\n",
    "        self.items = []\n",
    "\n",
    "    def isEmpty(self):\n",
    "        return self.items == []\n",
    "    def size(self):\n",
    "        # size of the list\n",
    "        return len(self.items)\n",
    "    def enqueue(self, item):\n",
    "        self.items.insert(0,item)\n",
    "    def dequeue(self):\n",
    "        return self.items.pop()\n",
    "    def size(self):\n",
    "        return len(self.items)\n",
    "\n",
    "s = Queue()\n",
    "s.enqueue('hello')\n",
    "s.enqueue('true')\n",
    "print(s.dequeue())\n",
    "\n"
   ]
  },
  {
   "cell_type": "code",
   "execution_count": 26,
   "metadata": {
    "cocalc": {
     "outputs": {
      "0": {
       "name": "input",
       "opts": {
        "password": false,
        "prompt": "Masukkan katanya: "
       },
       "output_type": "stream"
      }
     }
    },
    "collapsed": false
   },
   "outputs": [
    {
     "name": "stdout",
     "output_type": "stream",
     "text": "Masukkan katanya:  "
    }
   ],
   "source": [
    "class Stack:\n",
    "    def __init__(self):\n",
    "        self.items = []\n",
    " \n",
    "    def is_empty(self):\n",
    "        return self.items == []\n",
    " \n",
    "    def push(self, data):\n",
    "        self.items.append(data)\n",
    " \n",
    "    def pop(self):\n",
    "        return self.items.pop()\n",
    " \n",
    " \n",
    "s = Stack()\n",
    "text = input('Masukkan katanya: ')\n",
    " \n",
    "for character in text:\n",
    "    s.push(character)\n",
    " \n",
    "reversed_text = ''\n",
    "while not s.is_empty():\n",
    "    reversed_text = reversed_text + s.pop()\n",
    " \n",
    "if text == reversed_text:\n",
    "    print('polindrom')\n",
    "else:\n",
    "    print('bukan polindrom.')"
   ]
  },
  {
   "cell_type": "markdown",
   "metadata": {
    "collapsed": false
   },
   "source": [
    "Stack and Queue in Python using queue Module. A simple python List can act as queue and stack as well. Queue mechanism is used widely and for many purposes in daily life. A queue follows FIFO rule(First In First Out) and is used in programming for sorting and for many more things. Jadi intinya Queue adalah antrian dalam program yang menggunakan first in first out "
   ]
  }
 ],
 "metadata": {
  "kernelspec": {
   "display_name": "VPython",
   "language": "python",
   "name": "vpython"
  },
  "language_info": {
   "codemirror_mode": {
    "name": "ipython",
    "version": 3
   },
   "file_extension": ".py",
   "mimetype": "text/x-python",
   "name": "python",
   "nbconvert_exporter": "python",
   "pygments_lexer": "ipython3",
   "version": "3.6.7"
  }
 },
 "nbformat": 4,
 "nbformat_minor": 0
}