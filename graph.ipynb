{
 "cells": [
  {
   "cell_type": "markdown",
   "metadata": {
    "collapsed": false
   },
   "source": [
    "Graph adalah jaringan yang terdiri dari node (atau vertex, V) yang terhubung dengan edge (atau arc, E). \n",
    "Graph dapat didefinisikan sebagai sepasang set dari G=(V,E), \n",
    "dimana V adalah vertex/node/titik dan E adalah edge/arc atau set node pasangannya. \n",
    "Sebagai contoh, set node V = {a, b, c, d} dan set pasangannya E = {{a, b}, {b, c}, {c, d}, {d, a}}.\n",
    "\n",
    "- Istilah dalam Graph\n",
    "- Jenis Graph\n",
    "- Representasi Graph\n",
    "- Traversal dalam Graph\n",
    "\n",
    "Istilah dalah Graph\n",
    "Beberapa istilah yang terdapat dalam graph, antara lain:\n",
    "Bab 11\n",
    "16\n",
    "• Vertex (V) adalah bagian paling dasar dari grafik atau yang disebut juga sebagai node/titik.\n",
    "• Edge (E) adalah bagian dari graph yang menghubungkan 2 vertex/node/titik.\n",
    "• Weight (W) adalah sebuah nilai dalam graph atau yang menunjukan biaya yang \n",
    "dibutuhkan untuk berpindah dari satu titik ke titik yang lain. Misalnya sebuah peta diinterpestasikan dalam graph, \n",
    "maka jarak satu kota ke kota lain disebut Weight.\n",
    "• Path adalah serangkaian vertex yang berbeda-beda yang berdekatan dihubungkan oleh edge dan berturut-turut \n",
    "dari vertex satu ke vertex berikutnya. Path dari a ke c adalah urutan vertex (a,b,c) yang terdiri dari \n",
    "beberapa pasang Edge {(a,b), (b,c)} atau urutan vertex (a,d,c) yang terdiri dari beberapa pasang Edge {(a,d), (b,c)}\n",
    "\n",
    "Jenis Graph\n",
    "Bentuk dari graph dibedakan menjadi beberapa jenis, antara lain: \n",
    "    Undirected Graph, Directed Graph, Weigthed Graph, Unweigthed Graph, Cyle Graph, Conected Graph, \n",
    "    Unconeted Graph dan Complete Graph. Masing-masing jenis akan dijelaskan secara detil.\n",
    "    \n",
    "# Undirected Graph\n",
    "Sebuah graph yang ujung – ujung dari edge tidak memiliki arah (atau tidak memiliki mata panah), \n",
    "dimana setiap ujung dari edge berlaku dua arah.\n",
    "Misalkan: {a,b} Arah bisa dari a ke b, atau b ke a\n",
    "a-b terdiri dari {a,b} atau {b,a}\n",
    "Gambar 3. Ilustrasi Undirected Graph\n",
    "Maka notasi graph dari Gambar 3 adalah\n",
    "    G = {V, E}\n",
    "    V = {a,b,c,d}\n",
    "    E = { {a,b},{a,d},{b,c}, {d,c}}\n",
    "    \n",
    "#Directed Graph (Digraph)\n",
    "\n",
    "Sebuah graph yang ujung – ujung dari edge memiliki arah, \n",
    "dimana setiap ujung dari edge dalam Digraph memiliki anak panah yang mengarah ke vertex tertentu.\n",
    "Misalkan: {a,b} Arah bisa dari a ke b\n",
    "a→b terdiri dari {a,b}\n",
    "Gambar 4. Ilustrasi Directed Graph\n",
    "Maka notasi graph dari Gambar 4 adalah\n",
    "18\n",
    "    G = {V, E}\n",
    "    V = {a,b,c,d}\n",
    "    E = { {a,b},{a,d},{b,c}, {d,c}}\n",
    "\n",
    "#Weigthed Graph dan UnWeigthed Graph\n",
    "\n",
    "Weigthed Graph Sebuah graph dimana setiap edge memiliki nilai. \n",
    "Nilai tersebut adalah representasi dari bobot/biaya/weight dari edge tersebut.\n",
    "Bobot ini boleh lebih dari satu, semisal jarak antar kota, jumlah kendaraan yang melintasi kota tersebut, dll.\n",
    "Gambar 5. Ilustrasi Weighted Graph\n",
    "Maka notasi graph dari Gambar 5 adalah\n",
    "    G = {V, E}\n",
    "    V = {a,b,c,d}\n",
    "    E = { {a,b,4},{a,d,5},{b,c,3}, {d,c,6}}\n",
    "Jumlah bobot dalam weighted graph adalah sejumlah nilai untuk semua edge dalam suatu path,\n",
    "seperti path dari a ke c maka jumlah bobotnya adalah 7. \n",
    "Gambar 4 juga disebut unweighted graph maka jumlah bobotnya dihitung dari jumlahnya edge.\n",
    "Jika path dari a ke c maka bobotnya adalah 2.\n",
    "\n",
    "#Cyle Graph\n",
    "\n",
    "Sebuah directed graph dimana titik awal sama dengan titik tujuan. \n",
    "Atau sebuah path yang kembali kepada titik awal, misal path (a,b,d,a)\n",
    "19\n",
    "Gambar 6. Ilustrasi Cyle Graph\n",
    "Connected Graph dan Disconnected Graph\n",
    "Connected Graph adalah sebuah graph dimana setiap vertex terhubung satu dengan lainnya, \n",
    "dalam graph tersebut tidak ada vertex yang tidak terhubung.\n",
    "Sedangkan disconnected graph jika salah satu vertex tidak terhubung dengan vertex lainnya,\n",
    "atau dapat dikatakan tidak ada jalur menuju vertex tersebut.\n",
    "Gambar 7a adalah Connected Graph dan gambar 7b adalah disconnected Graph.\n",
    "(a) (b)\n",
    "Gambar 7. (a) Connected Graph (b) Disconnected Graph\n",
    "\n",
    "# Complete Graph\n",
    "\n",
    "Completed Graph adalah sebuah graph dimana semua vertex terhubung dengan lainnya, \n",
    "tidak ada edge yang terputus. Gambar 3 dan 4 adalah contoh Complete Graph\n",
    "Representasi Graph\n",
    "Cara untuk mengimplementasikan suatu graph. Ada 2 cara, yaitu Adjacency Matrix dan Adjacency List.\n",
    "Adjacency List\n",
    "Salah satu cara merepresentasikan graph sebagai array dalam list/link list. Indeks dari array merepresentasikan\n",
    "20\n",
    "sebuah vertex atau node asal dan setiap elemen dalam list/link list \n",
    "tersebut merepresentasikan vertex lain yang terhubung dari vertex asal. \n",
    "Dengan adjacency list memudahkan menemukan semua tautan vertex yang terhubung secara langsung dengan vertex asal.\n",
    "1. Representasi dengan List/Dictionary\n",
    "Untuk setiap vertex (V) akan menyimpan list yang berisi tetangga dari V. A:[b,d] \n",
    "    artinya vertex a mempunyai tetangga b dan d.\n",
    "Implementasinya menggunakan bahasa Python adalah sebagai berikut ini.\n",
    "A. List"
   ]
  },
  {
   "cell_type": "code",
   "execution_count": 1,
   "metadata": {
    "collapsed": false
   },
   "outputs": [
    {
     "ename": "IndentationError",
     "evalue": "expected an indented block (<ipython-input-1-dafaa9d06b97>, line 10)",
     "output_type": "error",
     "traceback": [
      "\u001b[0;36m  File \u001b[0;32m\"<ipython-input-1-dafaa9d06b97>\"\u001b[0;36m, line \u001b[0;32m10\u001b[0m\n\u001b[0;31m    print(node[n], \":\", adjLists[n])\u001b[0m\n\u001b[0m        ^\u001b[0m\n\u001b[0;31mIndentationError\u001b[0m\u001b[0;31m:\u001b[0m expected an indented block\n"
     ]
    }
   ],
   "source": [
    "# list of lists\n",
    "adjLists = [ ['b','d'], ['a','d'], ['d'], ['a','b','c'] ]\n",
    "node= ['a','b','c','d']\n",
    "# testing\n",
    "print(\"Semua tetangga dari vertex a: \", adjLists[0])\n",
    "print(\"Semua tetangga dari vertex d: \", adjLists[3])\n",
    "print(\"\\nMenampilkan semua vertex dan tetangganya masing-masing\")\n",
    "n = len(adjLists)\n",
    "for n in range(0,n):\n",
    "print(node[n], \":\", adjLists[n])"
   ]
  },
  {
   "cell_type": "markdown",
   "metadata": {
    "collapsed": false
   },
   "source": [
   ]
  },
  {
   "cell_type": "code",
   "execution_count": 0,
   "metadata": {
    "collapsed": false
   },
   "outputs": [
   ],
   "source": [
   ]
  },
  {
   "cell_type": "code",
   "execution_count": 2,
   "metadata": {
    "collapsed": false
   },
   "outputs": [
    {
     "ename": "IndentationError",
     "evalue": "expected an indented block (<ipython-input-2-adefffcf60c1>, line 13)",
     "output_type": "error",
     "traceback": [
      "\u001b[0;36m  File \u001b[0;32m\"<ipython-input-2-adefffcf60c1>\"\u001b[0;36m, line \u001b[0;32m13\u001b[0m\n\u001b[0;31m    print(node, \":\", adjLists_dict[node])\u001b[0m\n\u001b[0m        ^\u001b[0m\n\u001b[0;31mIndentationError\u001b[0m\u001b[0;31m:\u001b[0m expected an indented block\n"
     ]
    }
   ],
   "source": [
    "adjLists_dict = {}\n",
    "# insert (vertex, list) pairs into dictionary\n",
    "adjLists_dict = {'a': ['b', 'd'],\n",
    "'b': ['a', 'd'],\n",
    "'c': ['d'],\n",
    "'d': ['a','b','c'],\n",
    "}\n",
    "# testing\n",
    "print(\"Semua tetangga dari vertex indeks ke a: \", adjLists_dict['a'])\n",
    "print(\"Semua tetangga dari vertex indeks ke d: \", adjLists_dict['d'])\n",
    "print(\"\\nMenampilkan semua vertex dan tetangganya masing-masing\")\n",
    "for node in adjLists_dict:\n",
    "print(node, \":\", adjLists_dict[node])"
   ]
  },
  {
   "cell_type": "code",
   "execution_count": 3,
   "metadata": {
    "collapsed": false
   },
   "outputs": [
    {
     "ename": "IndentationError",
     "evalue": "expected an indented block (<ipython-input-3-d34322febec2>, line 4)",
     "output_type": "error",
     "traceback": [
      "\u001b[0;36m  File \u001b[0;32m\"<ipython-input-3-d34322febec2>\"\u001b[0;36m, line \u001b[0;32m4\u001b[0m\n\u001b[0;31m    def __init__(self, data):\u001b[0m\n\u001b[0m      ^\u001b[0m\n\u001b[0;31mIndentationError\u001b[0m\u001b[0;31m:\u001b[0m expected an indented block\n"
     ]
    }
   ],
   "source": [
    "#Representasi dengan Link List\n",
    "# A class to represent the adjacency list of the node\n",
    "class AdjNode:\n",
    "def __init__(self, data):\n",
    "self.vertex = data\n",
    "self.next = None\n",
    "# A class to represent a graph. A graph\n",
    "# is the list of the adjacency lists.\n",
    "# Size of the array will be the no. of the 0\n",
    "→ 1\n",
    "→ 3\n",
    "1\n",
    "→ 0\n",
    "→ 3\n",
    "2\n",
    "→ 3\n",
    "3\n",
    "→ 0\n",
    "→ 1\n",
    "→ 2\n",
    "23\n",
    "# vertices \"V\"\n",
    "class Graph:\n",
    "def __init__(self, vertices):\n",
    "self.V = vertices\n",
    "self.graph = [None] * self.V\n",
    "# Function to add an edge in an undirected graph\n",
    "def add_edge(self, src, dest):\n",
    "# Adding the node to the source node\n",
    "node = AdjNode(dest)\n",
    "node.next = self.graph[src]\n",
    "self.graph[src] = node\n",
    "# Adding the source node to the destination as\n",
    "# it is the undirected graph\n",
    "node = AdjNode(src)\n",
    "node.next = self.graph[dest]\n",
    "self.graph[dest] = node\n",
    "# Function to print the graph\n",
    "def print_graph(self):\n",
    "for i in range(self.V):\n",
    "print(\"Adjacency list dari vertex {}\\n head\".format(i), end=\"\")\n",
    "temp = self.graph[i]\n",
    "while temp:\n",
    "print(\" -> {}\".format(temp.vertex), end=\"\")\n",
    "temp = temp.next\n",
    "print(\" \\n\")\n",
    "# Driver program to the above graph class\n",
    "if __name__ == \"__main__\":\n",
    "V = 4\n",
    "graph = Graph(V)\n",
    "graph.add_edge(0, 1)\n",
    "graph.add_edge(0, 3)\n",
    "24\n",
    "graph.add_edge(1, 3)\n",
    "graph.add_edge(2, 3)\n",
    "graph.print_graph()"
   ]
  },
  {
   "cell_type": "markdown",
   "metadata": {
    "collapsed": false
   },
   "source": [
    "Adjacency Matrix\n",
    "Cara lain untuk merepresentasikan graph G = {V, E} sebagai matriks boolean. \n",
    "Ukuran matrik adalah ordo VxV dimana V adalah jumlah vertex dalam graph.\n",
    "Baris direpresentasikan sebagai titik awal dan kolom sebagai titik tujuan.\n",
    "Untuk Unweighted Graph maka Nilai A(i,j) adalah 1 atau 0 tergantung ada tidaknya garis (edge) yang menghubungkan \n",
    "dari titik i ke titik j. Bernilai 1 jika ada edge, dan 0 jika tidak ada edge antar titik tersebut. Weighted Graph,\n",
    "maka nilai matrik diisi dengan bobot dari edge A(i,j) = nilai bobot."
   ]
  },
  {
   "cell_type": "code",
   "execution_count": 5,
   "metadata": {
    "collapsed": false
   },
   "outputs": [
    {
     "ename": "IndentationError",
     "evalue": "expected an indented block (<ipython-input-5-7cfbcd627321>, line 2)",
     "output_type": "error",
     "traceback": [
      "\u001b[0;36m  File \u001b[0;32m\"<ipython-input-5-7cfbcd627321>\"\u001b[0;36m, line \u001b[0;32m2\u001b[0m\n\u001b[0;31m    def __init__(self, size):\u001b[0m\n\u001b[0m      ^\u001b[0m\n\u001b[0;31mIndentationError\u001b[0m\u001b[0;31m:\u001b[0m expected an indented block\n"
     ]
    }
   ],
   "source": [
    "class Graph(object):\n",
    "def __init__(self, size):\n",
    "self.adjMatrix = []\n",
    "26\n",
    "for i in range(size):\n",
    "self.adjMatrix.append([0 for i in range(size)])\n",
    "self.size = size\n",
    "def addEdge(self, v1, v2):\n",
    "if v1 == v2:\n",
    "print(\"Same vertex %d and %d\" % (v1, v2))\n",
    "self.adjMatrix[v1][v2] = 1\n",
    "self.adjMatrix[v2][v1] = 1\n",
    "def removeEdge(self, v1, v2):\n",
    "if self.adjMatrix[v1][v2] == 0:\n",
    "print(\"No edge between %d and %d\" % (v1, v2))\n",
    "return\n",
    "self.adjMatrix[v1][v2] = 0\n",
    "self.adjMatrix[v2][v1] = 0\n",
    "def containsEdge(self, v1, v2):\n",
    "return True if self.adjMatrix[v1][v2] > 0 else False\n",
    "def __len__(self):\n",
    "return self.size\n",
    "def toString(self):\n",
    "for row in self.adjMatrix:\n",
    "for val in row:\n",
    "print('{:4}'.format(val), end = ' ')\n",
    "print()\n",
    "def main():\n",
    "g = Graph(4)\n",
    "g.addEdge(0, 1);\n",
    "g.addEdge(0, 3);\n",
    "g.addEdge(1, 3);\n",
    "g.addEdge(2, 3);\n",
    "27\n",
    "g.toString()\n",
    "if __name__ == '__main__':\n",
    "main()"
   ]
  },
  {
   "cell_type": "markdown",
   "metadata": {
    "collapsed": false
   },
   "source": [
    "# Traversal Graph\n",
    "Mengunjungi setiap vertex/node secara sistematik. \n",
    "Traversal Graph digunakan untuk mencari jalur dalam suatu graph dari titik asal ke titik tujuan, \n",
    "mencari jalur terpendek antara dua node/vertex, menemukan semua jalur yang bisa dilalui dari titik asal ke titik tujuan.\n",
    "Implementasinya dalam python sebagai berikut menggunakan Adjacency List dengan dictionary."
   ]
  },
  {
   "cell_type": "code",
   "execution_count": 0,
   "metadata": {
    "collapsed": false
   },
   "outputs": [
   ],
   "source": [
    "b’: [‘a’, ‘d’]\n",
    "‘c’: [‘d’]\n",
    "‘d’: [‘a’, ‘b’, ‘c’]}\n",
    "def find_path(graph, start, end, path=[]):\n",
    "path = path + [start]\n",
    "for node in graph[start]:\n",
    "if not node in path:\n",
    "newpath = find_path(graph, node, end, path)\n",
    "if newpath:\n",
    "return newpath\n",
    "if start == end:\n",
    "return path\n",
    "if not start in graph:\n",
    "return None\n",
    "return None\n",
    "print(find_path(graph, 'a', 'd'))\n",
    "\n"
   ]
  },
  {
   "cell_type": "code",
   "execution_count": 6,
   "metadata": {
    "collapsed": false
   },
   "outputs": [
    {
     "ename": "IndentationError",
     "evalue": "expected an indented block (<ipython-input-6-9dedd5c9b03d>, line 4)",
     "output_type": "error",
     "traceback": [
      "\u001b[0;36m  File \u001b[0;32m\"<ipython-input-6-9dedd5c9b03d>\"\u001b[0;36m, line \u001b[0;32m4\u001b[0m\n\u001b[0;31m    path = path + [start]\u001b[0m\n\u001b[0m       ^\u001b[0m\n\u001b[0;31mIndentationError\u001b[0m\u001b[0;31m:\u001b[0m expected an indented block\n"
     ]
    }
   ],
   "source": [
    "#Sedangkan untuk mendapatkan jalur tercepat,\n",
    "#maka dilakukan dengan membandingkan jumlah jalur yang dihasilkan dari semua path dan dipilih yang terkecil\n",
    "def shortest_path(graph, start, end, path=[]):\n",
    "path = path + [start]\n",
    "if start == end:\n",
    "return path\n",
    "if not start in graph:\n",
    "return None\n",
    "shortest = None\n",
    "for node in graph[start]:\n",
    "30\n",
    "if node not in path:\n",
    "newpath = shortest_path(graph, node, end, path)\n",
    "if newpath:\n",
    "if not shortest or len(newpath) < len(shortest):\n",
    "shortest = newpath\n",
    "return shortest\n",
    "print(shortest_path(graph,'a','d'))"
   ]
  },
  {
   "cell_type": "code",
   "execution_count": 0,
   "metadata": {
    "collapsed": false
   },
   "outputs": [
   ],
   "source": [
    "# Dengan menggunakan algoritma yang sama dilakukan untuk mendapatkan semua jalur dari suatu path\n",
    "b’: [‘a’, ‘d’]\n",
    "‘c’: [‘d’]\n",
    "‘d’: [‘a’, ‘b’, ‘c’]}\n",
    "def find_path(graph, start, end, path=[]):\n",
    "path = path + [start]\n",
    "for node in graph[start]:\n",
    "if not node in path:\n",
    "newpath = find_path(graph, node, end, path)\n",
    "if newpath:\n",
    "return newpath\n",
    "if start == end:\n",
    "return path\n",
    "if not start in graph:\n",
    "return None\n",
    "return None\n",
    "print(find_path(graph, 'a', 'd'))"
   ]
  },
  {
   "cell_type": "code",
   "execution_count": 7,
   "metadata": {
    "collapsed": false
   },
   "outputs": [
    {
     "name": "stdout",
     "output_type": "stream",
     "text": [
      "['a', 'b', 'c', 'd', 'e', 'f']\n"
     ]
    }
   ],
   "source": [
    "class graph:\n",
    "\n",
    "    def __init__(self,gdict=None):\n",
    "        if gdict is None:\n",
    "            gdict = {}\n",
    "        self.gdict = gdict\n",
    "\n",
    "    def getVertices(self):\n",
    "        return list(self.gdict.keys())\n",
    "\n",
    "# Add the vertex as a key\n",
    "    def addVertex(self, vrtx):\n",
    "       if vrtx not in self.gdict:\n",
    "            self.gdict[vrtx] = []\n",
    "\n",
    "# Create the dictionary with graph elements\n",
    "graph_elements = { \"a\" : [\"b\",\"c\"],\n",
    "                \"b\" : [\"a\", \"d\"],\n",
    "                \"c\" : [\"a\", \"d\"],\n",
    "                \"d\" : [\"e\"],\n",
    "                \"e\" : [\"d\"]\n",
    "                }\n",
    "\n",
    "g = graph(graph_elements)\n",
    "\n",
    "g.addVertex(\"f\")\n",
    "\n",
    "print(g.getVertices())"
   ]
  },
  {
   "cell_type": "code",
   "execution_count": 8,
   "metadata": {
    "collapsed": false
   },
   "outputs": [
    {
     "name": "stdout",
     "output_type": "stream",
     "text": [
      "[{'a', 'b'}, {'a', 'c'}, {'d', 'b'}, {'d', 'c'}, {'e', 'd'}, {'e', 'a'}]\n"
     ]
    }
   ],
   "source": [
    "class graph:\n",
    "\n",
    "    def __init__(self,gdict=None):\n",
    "        if gdict is None:\n",
    "            gdict = {}\n",
    "        self.gdict = gdict\n",
    "\n",
    "    def edges(self):\n",
    "        return self.findedges()\n",
    "# Add the new edge\n",
    "\n",
    "    def AddEdge(self, edge):\n",
    "        edge = set(edge)\n",
    "        (vrtx1, vrtx2) = tuple(edge)\n",
    "        if vrtx1 in self.gdict:\n",
    "            self.gdict[vrtx1].append(vrtx2)\n",
    "        else:\n",
    "            self.gdict[vrtx1] = [vrtx2]\n",
    "\n",
    "# List the edge names\n",
    "    def findedges(self):\n",
    "        edgename = []\n",
    "        for vrtx in self.gdict:\n",
    "            for nxtvrtx in self.gdict[vrtx]:\n",
    "                if {nxtvrtx, vrtx} not in edgename:\n",
    "                    edgename.append({vrtx, nxtvrtx})\n",
    "        return edgename\n",
    "\n",
    "# Create the dictionary with graph elements\n",
    "graph_elements = { \"a\" : [\"b\",\"c\"],\n",
    "                \"b\" : [\"a\", \"d\"],\n",
    "                \"c\" : [\"a\", \"d\"],\n",
    "                \"d\" : [\"e\"],\n",
    "                \"e\" : [\"d\"]\n",
    "                }\n",
    "\n",
    "g = graph(graph_elements)\n",
    "g.AddEdge({'a','e'})\n",
    "g.AddEdge({'a','c'})\n",
    "print(g.edges())"
   ]
  },
  {
   "cell_type": "code",
   "execution_count": 9,
   "metadata": {
    "collapsed": false
   },
   "outputs": [
    {
     "name": "stdout",
     "output_type": "stream",
     "text": [
      "[{'a', 'b'}, {'a', 'c'}, {'d', 'b'}, {'d', 'c'}, {'e', 'd'}]\n"
     ]
    }
   ],
   "source": [
    "class graph:\n",
    "\n",
    "    def __init__(self,gdict=None):\n",
    "        if gdict is None:\n",
    "            gdict = {}\n",
    "        self.gdict = gdict\n",
    "\n",
    "    def edges(self):\n",
    "        return self.findedges()\n",
    "# Find the distinct list of edges\n",
    "\n",
    "    def findedges(self):\n",
    "        edgename = []\n",
    "        for vrtx in self.gdict:\n",
    "            for nxtvrtx in self.gdict[vrtx]:\n",
    "                if {nxtvrtx, vrtx} not in edgename:\n",
    "                    edgename.append({vrtx, nxtvrtx})\n",
    "        return edgename\n",
    "\n",
    "# Create the dictionary with graph elements\n",
    "graph_elements = { \"a\" : [\"b\",\"c\"],\n",
    "                \"b\" : [\"a\", \"d\"],\n",
    "                \"c\" : [\"a\", \"d\"],\n",
    "                \"d\" : [\"e\"],\n",
    "                \"e\" : [\"d\"]\n",
    "                }\n",
    "\n",
    "g = graph(graph_elements)\n",
    "\n",
    "print(g.edges())"
   ]
  },
  {
   "cell_type": "code",
   "execution_count": 0,
   "metadata": {
    "collapsed": false
   },
   "outputs": [
   ],
   "source": [
    "class Adjnode :\n",
    "    def __init__(self,data):\n",
    "        self.vertex = data\n",
    "        self.next = None\n",
    "    def __str__(self):\n",
    "        if (self.next!= None):\n",
    "            return str(self.vertex) + \" _>\"+str(self.next)\n",
    "        else :\n",
    "            return str(self.vertex)\n",
    "class graph :\n",
    "    def __init__(self,vertices):\n",
    "        self.V = vertices\n",
    "        self.graph= [None] *self.V\n",
    "    def add_edge(self,src,dest):\n",
    "        node = Adjnode(dest)\n",
    "        node.next= self.graph[src]\n",
    "        self.graph[src]=node"
   ]
  },
  {
   "cell_type": "code",
   "execution_count": 11,
   "metadata": {
    "collapsed": false
   },
   "outputs": [
    {
     "name": "stdout",
     "output_type": "stream",
     "text": [
      "['a', 'b', 'c', 'd', 'e']\n"
     ]
    }
   ],
   "source": [
    "class graph:\n",
    "    def __init__(self,gdict=None):\n",
    "        if gdict is None:\n",
    "            gdict = []\n",
    "        self.gdict = gdict\n",
    "\n",
    "# Get the keys of the dictionary\n",
    "    def getVertices(self):\n",
    "        return list(self.gdict.keys())\n",
    "\n",
    "# Create the dictionary with graph elements\n",
    "graph_elements = { \"a\" : [\"b\",\"c\"],\n",
    "                \"b\" : [\"a\", \"d\"],\n",
    "                \"c\" : [\"a\", \"d\"],\n",
    "                \"d\" : [\"e\"],\n",
    "                \"e\" : [\"d\"]\n",
    "                }\n",
    "\n",
    "g = graph(graph_elements)\n",
    "\n",
    "print(g.getVertices())"
   ]
  },
  {
   "cell_type": "code",
   "execution_count": 12,
   "metadata": {
    "collapsed": false
   },
   "outputs": [
    {
     "name": "stdout",
     "output_type": "stream",
     "text": [
      "Vertices of graph:\n",
      "['a', 'b', 'c', 'd', 'e', 'f']\n",
      "Edges of graph:\n",
      "[{'a', 'd'}, {'b', 'c'}, {'c'}, {'d', 'c'}, {'e', 'c'}]\n",
      "Add vertex:\n",
      "Vertices of graph:\n",
      "['a', 'b', 'c', 'd', 'e', 'f', 'z']\n",
      "Add an edge:\n",
      "Vertices of graph:\n",
      "['a', 'b', 'c', 'd', 'e', 'f', 'z']\n",
      "Edges of graph:\n",
      "[{'a', 'd'}, {'b', 'c'}, {'c'}, {'d', 'c'}, {'e', 'c'}, {'z', 'a'}]\n",
      "Adding an edge {\"x\",\"y\"} with new vertices:\n",
      "Vertices of graph:\n",
      "['a', 'b', 'c', 'd', 'e', 'f', 'z', 'y']\n",
      "Edges of graph:\n",
      "[{'a', 'd'}, {'b', 'c'}, {'c'}, {'d', 'c'}, {'e', 'c'}, {'z', 'a'}, {'y', 'x'}]\n"
     ]
    }
   ],
   "source": [
    "class Graph(object):\n",
    "\n",
    "    def __init__(self, graph_dict=None):\n",
    "        \"\"\" initializes a graph object \n",
    "            If no dictionary or None is given, \n",
    "            an empty dictionary will be used\n",
    "        \"\"\"\n",
    "        if graph_dict == None:\n",
    "            graph_dict = {}\n",
    "        self.__graph_dict = graph_dict\n",
    "\n",
    "    def vertices(self):\n",
    "        \"\"\" returns the vertices of a graph \"\"\"\n",
    "        return list(self.__graph_dict.keys())\n",
    "\n",
    "    def edges(self):\n",
    "        \"\"\" returns the edges of a graph \"\"\"\n",
    "        return self.__generate_edges()\n",
    "\n",
    "    def add_vertex(self, vertex):\n",
    "        \"\"\" If the vertex \"vertex\" is not in \n",
    "            self.__graph_dict, a key \"vertex\" with an empty\n",
    "            list as a value is added to the dictionary. \n",
    "            Otherwise nothing has to be done. \n",
    "        \"\"\"\n",
    "        if vertex not in self.__graph_dict:\n",
    "            self.__graph_dict[vertex] = []\n",
    "\n",
    "    def add_edge(self, edge):\n",
    "        \"\"\" assumes that edge is of type set, tuple or list; \n",
    "            between two vertices can be multiple edges! \n",
    "        \"\"\"\n",
    "        edge = set(edge)\n",
    "        (vertex1, vertex2) = tuple(edge)\n",
    "        if vertex1 in self.__graph_dict:\n",
    "            self.__graph_dict[vertex1].append(vertex2)\n",
    "        else:\n",
    "            self.__graph_dict[vertex1] = [vertex2]\n",
    "\n",
    "    def __generate_edges(self):\n",
    "        \"\"\" A static method generating the edges of the \n",
    "            graph \"graph\". Edges are represented as sets \n",
    "            with one (a loop back to the vertex) or two \n",
    "            vertices \n",
    "        \"\"\"\n",
    "        edges = []\n",
    "        for vertex in self.__graph_dict:\n",
    "            for neighbour in self.__graph_dict[vertex]:\n",
    "                if {neighbour, vertex} not in edges:\n",
    "                    edges.append({vertex, neighbour})\n",
    "        return edges\n",
    "\n",
    "    def __str__(self):\n",
    "        res = \"vertices: \"\n",
    "        for k in self.__graph_dict:\n",
    "            res += str(k) + \" \"\n",
    "        res += \"\\nedges: \"\n",
    "        for edge in self.__generate_edges():\n",
    "            res += str(edge) + \" \"\n",
    "        return res\n",
    "\n",
    "\n",
    "if __name__ == \"__main__\":\n",
    "\n",
    "    g = { \"a\" : [\"d\"],\n",
    "          \"b\" : [\"c\"],\n",
    "          \"c\" : [\"b\", \"c\", \"d\", \"e\"],\n",
    "          \"d\" : [\"a\", \"c\"],\n",
    "          \"e\" : [\"c\"],\n",
    "          \"f\" : []\n",
    "        }\n",
    "\n",
    "\n",
    "    graph = Graph(g)\n",
    "\n",
    "    print(\"Vertices of graph:\")\n",
    "    print(graph.vertices())\n",
    "\n",
    "    print(\"Edges of graph:\")\n",
    "    print(graph.edges())\n",
    "\n",
    "    print(\"Add vertex:\")\n",
    "    graph.add_vertex(\"z\")\n",
    "\n",
    "    print(\"Vertices of graph:\")\n",
    "    print(graph.vertices())\n",
    " \n",
    "    print(\"Add an edge:\")\n",
    "    graph.add_edge({\"a\",\"z\"})\n",
    "    \n",
    "    print(\"Vertices of graph:\")\n",
    "    print(graph.vertices())\n",
    "\n",
    "    print(\"Edges of graph:\")\n",
    "    print(graph.edges())\n",
    "\n",
    "    print('Adding an edge {\"x\",\"y\"} with new vertices:')\n",
    "    graph.add_edge({\"x\",\"y\"})\n",
    "    print(\"Vertices of graph:\")\n",
    "    print(graph.vertices())\n",
    "    print(\"Edges of graph:\")\n",
    "    print(graph.edges())"
   ]
  },
  {
   "cell_type": "code",
   "execution_count": 13,
   "metadata": {
    "collapsed": false
   },
   "outputs": [
    {
     "name": "stdout",
     "output_type": "stream",
     "text": [
      "Adjacency list dari vertex 0\n",
      " head->2->3->1\n",
      "\n",
      "Adjacency list dari vertex 1\n",
      " head->3->0\n",
      "\n",
      "Adjacency list dari vertex 2\n",
      " head->0->3\n",
      "\n",
      "Adjacency list dari vertex 3\n",
      " head->2->1->0\n",
      "\n",
      "Adjacency list dari vertex 4\n",
      " head\n",
      "\n",
      "terpendek dari 0 ke 2 : \n",
      "Head -> 0 -> 2  -> None\n"
     ]
    }
   ],
   "source": [
    "class adjnode:\n",
    "    def __init__(x,data):\n",
    "        x.vertex=data\n",
    "        x.next=None\n",
    "    def __str__(x):\n",
    "        if (x.next != None):\n",
    "            return str(x.vertex)+\" -> \"+str(x.next)\n",
    "        else:\n",
    "            return str(x.vertex)\n",
    "class Graph:\n",
    "    def __init__(x,vertices):\n",
    "        x.V=vertices\n",
    "        x.graph=[None]*x.V\n",
    "    def addEdge(x,src,dest):\n",
    "        node = adjnode(dest)\n",
    "        node.next = x.graph[src]\n",
    "        x.graph[src] = node\n",
    "        \n",
    "        node = adjnode(src)\n",
    "        node.next = x.graph[dest]\n",
    "        x.graph[dest] = node\n",
    "    def printGraph(x):\n",
    "        for i in range (x.V):\n",
    "            print(\"Adjacency list dari vertex {}\\n head\".format(i), end=\"\")\n",
    "            temp = x.graph[i]\n",
    "            while temp:\n",
    "                print(\"->{}\".format(temp.vertex), end=\"\")\n",
    "                temp = temp.next\n",
    "            print(\"\\n\")\n",
    "    def shortest(x,start,end):\n",
    "        shortest_distance=99999999\n",
    "        shortest_link=None\n",
    "        tmp_dest=0\n",
    "        tmp_link = None\n",
    "        for (i,node) in enumerate(x.graph):\n",
    "            z=adjnode(i)\n",
    "            z.next=node\n",
    "            node=z\n",
    "            tmp_link = None\n",
    "            while node != None:\n",
    "                if (node.vertex==start):\n",
    "                    tmp_dest=1\n",
    "                    tmp_link = node\n",
    "                elif (node.vertex==end):\n",
    "                    if (tmp_link != None and tmp_dest+1 < shortest_distance):\n",
    "                        shortest_distance=tmp_dest\n",
    "                        shortest_link = tmp_link\n",
    "                    tmp_link=None\n",
    "                elif (tmp_link !=None):\n",
    "                        tmp_dest+=1\n",
    "                node=node.next\n",
    "\n",
    "        nodeasli=adjnode(shortest_link.vertex)\n",
    "        node = nodeasli\n",
    "        nodeyangmaudicopas= shortest_link\n",
    "        for i in range (shortest_distance):\n",
    "            nodeyangmaudicopas=nodeyangmaudicopas.next\n",
    "            if (nodeyangmaudicopas!=None):\n",
    "                node.next = adjnode(nodeyangmaudicopas.vertex)\n",
    "                node=node.next\n",
    "        return nodeasli\n",
    "if __name__ == \"__main__\":\n",
    "    V=5\n",
    "    g=Graph(V)\n",
    "    g.addEdge(0,1)\n",
    "    g.addEdge(0,3)\n",
    "    g.addEdge(1,3)\n",
    "    g.addEdge(2,3)\n",
    "    g.addEdge(0,2)\n",
    "    \n",
    "    g.printGraph()\n",
    "    print (\"terpendek dari 0 ke 2 : \")\n",
    "    print (\"Head ->\",str(g.shortest(0,2)),\" -> None\")"
   ]
  },
  {
   "cell_type": "code",
   "execution_count": 0,
   "metadata": {
    "collapsed": false
   },
   "outputs": [
   ],
   "source": [
   ]
  }
 ],
 "metadata": {
  "kernelspec": {
   "display_name": "Python 3 (Ubuntu Linux)",
   "language": "python",
   "metadata": {
    "cocalc": {
     "description": "Python 3 programming language",
     "priority": 100,
     "url": "https://www.python.org/"
    }
   },
   "name": "python3"
  },
  "language_info": {
   "codemirror_mode": {
    "name": "ipython",
    "version": 3
   },
   "file_extension": ".py",
   "mimetype": "text/x-python",
   "name": "python",
   "nbconvert_exporter": "python",
   "pygments_lexer": "ipython3",
   "version": "3.6.7"
  }
 },
 "nbformat": 4,
 "nbformat_minor": 0
}