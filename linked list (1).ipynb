{
 "cells": [
  {
   "cell_type": "markdown",
   "metadata": {
    "collapsed": false
   },
   "source": [
    "Senarai berantai (bahasa Inggris: linked list) atau kadang-kadang disebut dengan senarai bertaut atau daftar bertaut dalam ilmu komputer merupakan sebuah struktur data yang digunakan untuk menyimpan sejumlah objek data biasanya secara terurut sehingga memungkinkan penambahan, pengurangan, dan pencarian atas elemen data yang tersimpan dalam senarai dilakukan secara lebih efektif. Pada praktiknya sebuah struktur data memiliki elemen yang digunakan untuk saling menyimpan rujukan antara satu dengan lainnya sehingga membentuk sebuah senarai abstrak, tiap-tiap elemen yang terdapat pada senarai abstrak ini seringkali disebut sebagai node. karena mekanisme rujukan yang saling terkait inilah disebut sebagai senarai berantai.\n",
    "\n",
    "Singly-linked-list.svg\n",
    "Sebuah senarai berantai dengan tiap-tiap node yang terdiri atas dua elemen, data integer, dan elemen rujukan ke node berikutnya\n",
    "Senarai berantai merupakan bentuk struktur data paling umum dan sederhana yang banyak digunakan untuk mengimplementasikan model struktur data lainnya, termasuk antrian, stack, ataupun larik assosiatif."
   ]
  },
  {
   "cell_type": "code",
   "execution_count": 1,
   "metadata": {
    "collapsed": false
   },
   "outputs": [
   ],
   "source": [
    "class Node:\n",
    "    def __init__(self,initdata):\n",
    "        self.data = initdata\n",
    "        self.next = None\n",
    " \n",
    "    def getData(self):\n",
    "        return self.data \n",
    "    def getNext(self):\n",
    "        return self.next \n",
    "    def setData(self,newdata):\n",
    "        self.data = newdata \n",
    "    def setNext(self,newnext):\n",
    "        self.next = newnext"
   ]
  },
  {
   "cell_type": "code",
   "execution_count": 0,
   "metadata": {
    "collapsed": false
   },
   "outputs": [
   ],
   "source": [
    "class UnorderedList:\n",
    "    def __init__(self):\n",
    "        self.head = None    \n",
    "    def show(self):\n",
    "        current = self.head\n",
    "        print ('Head ->', end=\"\")\n",
    "        while current != None:\n",
    "            print (current.getData(), end=\" -> \")\n",
    "            current = current.getNext()\n",
    "        print ('None’)\n",
    "    def isEmpty(self):\n",
    "        return self.head == None"
   ]
  },
  {
   "cell_type": "code",
   "execution_count": 0,
   "metadata": {
    "collapsed": false
   },
   "outputs": [
   ],
   "source": [
    "#Add LINK LIST\n",
    "\n",
    "def add(self,item):\n",
    "        temp = Node(item)\n",
    "        temp.setNext(self.head)\n",
    "        self.head = temp"
   ]
  },
  {
   "cell_type": "code",
   "execution_count": 0,
   "metadata": {
    "collapsed": false
   },
   "outputs": [
   ],
   "source": [
    "# TAMBAHAN DOUBLE LINK LIST\n",
    "\n",
    "temp.setPrev(None)\n",
    "        next = temp.getNext()\n",
    "        If next != None:\n",
    "\tnext.setPrev(item)"
   ]
  },
  {
   "cell_type": "code",
   "execution_count": 0,
   "metadata": {
    "collapsed": false
   },
   "outputs": [
   ],
   "source": [
    "#SEARCH\n",
    "\n",
    "- traversal diinisialisasi untuk memulai di kepala\n",
    "- gunakan variabel boolean bernama found, Karena kita belum menemukan item di awal traversal, found dapat disetel ke False\n",
    "- Iterasi (kedua kondisi: ada lebih banyak node untuk dikunjungi dan kami belum menemukan item yang kami cari)\n",
    "    if whether the data = the current node  found can be set \tto True.\n",
    "        else continue to check the next node"
   ]
  },
  {
   "cell_type": "code",
   "execution_count": 0,
   "metadata": {
    "collapsed": false
   },
   "outputs": [
   ],
   "source": [
    "def search(self,item):\n",
    "        current = self.head\n",
    "        found = False\n",
    "        while current != None and not found:\n",
    "            if current.getData() == item:\n",
    "                found = True\n",
    "                print('Data in List')\n",
    "            else:\n",
    "                current = current.getNext()\n",
    "        return found"
   ]
  },
  {
   "cell_type": "code",
   "execution_count": 0,
   "metadata": {
    "collapsed": false
   },
   "outputs": [
   ],
   "source": [
    "def remove(self,item):\n",
    "        current = self.head\n",
    "        previous = None\n",
    "        found = False\n",
    "        while not found:\n",
    "            if current.getData() == item:\n",
    "                found = True\n",
    "            else:\n",
    "                previous = current\n",
    "                current = current.getNext()\n",
    "\n",
    "        if previous == None:\n",
    "            self.head = current.getNext()\n",
    "        else:\n",
    "            previous.setNext(current.getNext())"
   ]
  },
  {
   "cell_type": "code",
   "execution_count": 2,
   "metadata": {
    "collapsed": false
   },
   "outputs": [
    {
     "name": "stdout",
     "output_type": "stream",
     "text": [
      "Data not in List\n",
      "Head ->\n",
      "\n",
      "17\n",
      " -> \n",
      "77\n",
      " -> \n",
      "31\n",
      " -> \n",
      "None\n"
     ]
    }
   ],
   "source": [
    "class Node:\n",
    "    def __init__(self,initdata):\n",
    "        self.data = initdata\n",
    "        self.next = None\n",
    "\n",
    "    def getData(self):\n",
    "        return self.data\n",
    "\n",
    "    def getNext(self):\n",
    "        return self.next\n",
    "\n",
    "    def setData(self,newdata):\n",
    "        self.data = newdata\n",
    "\n",
    "    def setNext(self,newnext):\n",
    "        self.next = newnext\n",
    "\n",
    "class UnorderedList:\n",
    "\n",
    "    def __init__(self):\n",
    "        self.head = None\n",
    "\n",
    "       \n",
    "    def show(self):\n",
    "        current = self.head\n",
    "        print ('Head ->') ,\n",
    "        print (\"\") ,\n",
    "        while current != None:\n",
    "            print (current.getData()),\n",
    "            print (\" -> \") ,\n",
    "            current = current.getNext()\n",
    "        print (\"None\")\n",
    "    \n",
    "    def isEmpty(self):\n",
    "        return self.head == None\n",
    "    def add(self,item):\n",
    "        temp = Node(item)\n",
    "        temp.setNext(self.head)\n",
    "        self.head = temp\n",
    "    def size(self):\n",
    "        current = self.head\n",
    "        count = 0\n",
    "        while current != None:\n",
    "            count = count + 1\n",
    "            current = current.getNext()\n",
    "\n",
    "        return count\n",
    "    def search(self,item):\n",
    "        current = self.head\n",
    "        found = False\n",
    "        while current != None and not found:\n",
    "            if current.getData() == item:\n",
    "                found = True\n",
    "                print('Data in List')\n",
    "            else:\n",
    "                current = current.getNext()\n",
    "        if found == False:\n",
    "            print('Data not in List')\n",
    "\n",
    "        return found\n",
    "    def remove(self,item):\n",
    "        current = self.head\n",
    "        previous = None\n",
    "        found = False\n",
    "        while current != None and not found:\n",
    "            if current.getData() == item:\n",
    "                found = True\n",
    "            else:\n",
    "                previous = current\n",
    "                current = current.getNext()\n",
    "\n",
    "        if previous == None:\n",
    "            self.head = current.getNext()\n",
    "        else:\n",
    "            previous.setNext(current.getNext())\n",
    "            if next != None:\n",
    "                next.setprev(current.getPrev())\n",
    "\n",
    "\n",
    "\n",
    "        if current is None:\n",
    "            print('Data not in list')\n",
    "mylist = UnorderedList()\n",
    "mylist.add(31)\n",
    "mylist.add(77)\n",
    "mylist.add(17)\n",
    "mylist.search(37)\n",
    "\n",
    "\n",
    "mylist.show()"
   ]
  },
  {
   "cell_type": "code",
   "execution_count": 0,
   "metadata": {
    "collapsed": false
   },
   "outputs": [
   ],
   "source": [
    "Double Link List\n",
    "Beberapa operasi yang biasanya ada di dalam sebuah doubly linked list pada dasarnya sama dengan yang ada di dalam single linked \n",
    "list, yakni:\n",
    "\n",
    "# Push\n",
    "Push merupakan sebuah operasi insert dimana di dalam linked list terdapat 2 kemungkinan insert,\n",
    "yaitu insert melalui depan (pushDepan) ataupun belakang (pushBelakang). \n",
    "Operasi pushDepan berarti data yang paling baru dimasukkan akan berada di depan data lainnya, \n",
    "dan sebaliknya pushBelakang berarti data yang paling baru akan berada di belakang data lainnya.\n",
    "\n",
    "pushDepan: 5, 3, 7, 9 maka hasilnya adalah berturut-turut: 9, 7, 3, 5\n",
    "pushBelakang: 5, 3, 7, 9 maka hasilnya adalah 5, 3, 7, 9\n",
    "Pop\n",
    "# Pop, \n",
    "kebalikan dari push, merupakan operasi delete, dimana di dalam linked list memiliki 2 kemungkinan delete, \n",
    "yaitu melalui depan (popDepan) dan melalui belakang (popBelakang). \n",
    "PopDepan berarti data yang akan dihapus adalah data paling depan, \n",
    "dan popBelakang berarti data yang akan dihapus adalah data paling belakang (akhir)."
   ]
  },
  {
   "cell_type": "code",
   "execution_count": 3,
   "metadata": {
    "collapsed": false
   },
   "outputs": [
    {
     "name": "stdout",
     "output_type": "stream",
     "text": [
      "None <-\n",
      "Head ->None\n",
      "None <-\n",
      "Head ->100<->10<->15->None\n",
      "Data not in list\n"
     ]
    }
   ],
   "source": [
    "class Node:\n",
    "    def __init__(self,initdata):\n",
    "        self.data = initdata\n",
    "        self.next = None\n",
    "        self.prev = None\n",
    "\n",
    "    def getData(self):\n",
    "        return self.data\n",
    "\n",
    "    def getNext(self):\n",
    "        return self.next\n",
    "\n",
    "    def getPrev(self):\n",
    "        return self.prev\n",
    "\n",
    "    def setData(self,newdata):\n",
    "        self.data = newdata\n",
    "\n",
    "    def setNext(self,newnext):\n",
    "        self.next = newnext\n",
    "\n",
    "    def setPrev(self,newprev):\n",
    "        self.prev = newprev\n",
    "\n",
    "class UnorderedList:\n",
    "\n",
    "    def __init__(self):\n",
    "        self.head = None\n",
    "\n",
    "    def show(self):\n",
    "        current = self.head\n",
    "        print ('None <-')\n",
    "        print ('Head ->', end='')\n",
    "        while current != None:\n",
    "            if current.getNext() == None:\n",
    "                print (current.getData(), end='->')\n",
    "            else:\n",
    "                print (current.getData(), end='<->')\n",
    "            current = current.getNext()\n",
    "        print ('None')\n",
    "    def isEmpty(self):\n",
    "        return self.head == None\n",
    "    def add(self,item):\n",
    "        temp = Node(item)\n",
    "        temp.setNext(self.head)\n",
    "        temp.setPrev(None)\n",
    "        next = temp.getNext()\n",
    "        if next != None:\n",
    "            next.setPrev(temp)\n",
    "        self.head = temp\n",
    "\n",
    "    def size(self):\n",
    "        current = self.head\n",
    "        count = 0\n",
    "        while current != None:\n",
    "            count = count + 1\n",
    "            current = current.getNext()\n",
    "\n",
    "        return count\n",
    "    def search(self,item):\n",
    "        current = self.head\n",
    "        found = False\n",
    "        while current != None and not found:\n",
    "            if current.getData() == item:\n",
    "                found = True\n",
    "                print('Data in List')\n",
    "            else:\n",
    "                current = current.getNext()\n",
    "        if found == False:\n",
    "            print('Data not in List')\n",
    "\n",
    "        return found\n",
    "    def remove(self,item):\n",
    "        current = self.head\n",
    "        previous = None\n",
    "        found = False\n",
    "        while current != None and not found:\n",
    "            if current.getData() == item:\n",
    "                found = True\n",
    "            else:\n",
    "                previous = current\n",
    "                current = current.getNext()\n",
    "                if current == None:\n",
    "                    next = None\n",
    "                else:\n",
    "                    next = current.getNext()\n",
    "\n",
    "        if previous == None:\n",
    "            self.head = current.getNext()\n",
    "        else:\n",
    "            if current == None:\n",
    "                previous.setNext(None)\n",
    "            else:\n",
    "                previous.setNext(current.getNext())\n",
    "            if next != None:\n",
    "                next.setPrev(current.getPrev)\n",
    "        if current is None:\n",
    "            print(\"Data not in list\")\n",
    "\n",
    "mylist = UnorderedList()\n",
    "\n",
    "mylist.show()\n",
    "mylist.add(15)\n",
    "mylist.add(10)\n",
    "mylist.add(100)\n",
    "mylist.show()\n",
    "mylist.remove(101)"
   ]
  },
  {
   "cell_type": "code",
   "execution_count": 0,
   "metadata": {
    "collapsed": false
   },
   "outputs": [
   ],
   "source": [
   ]
  }
 ],
 "metadata": {
  "kernelspec": {
   "display_name": "Python 3 (Ubuntu Linux)",
   "language": "python",
   "metadata": {
    "cocalc": {
     "description": "Python 3 programming language",
     "priority": 100,
     "url": "https://www.python.org/"
    }
   },
   "name": "python3"
  },
  "language_info": {
   "codemirror_mode": {
    "name": "ipython",
    "version": 3
   },
   "file_extension": ".py",
   "mimetype": "text/x-python",
   "name": "python",
   "nbconvert_exporter": "python",
   "pygments_lexer": "ipython3",
   "version": "3.6.7"
  }
 },
 "nbformat": 4,
 "nbformat_minor": 0
}